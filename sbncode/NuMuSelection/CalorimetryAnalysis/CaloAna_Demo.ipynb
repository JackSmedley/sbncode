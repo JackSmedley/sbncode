{
 "cells": [
  {
   "cell_type": "code",
   "execution_count": 1,
   "metadata": {},
   "outputs": [
    {
     "name": "stdout",
     "output_type": "stream",
     "text": [
      "Welcome to JupyROOT 6.18/04\n"
     ]
    }
   ],
   "source": [
    "%load_ext autoreload\n",
    "%autoreload 2\n",
    "\n",
    "import math\n",
    "from itertools import product\n",
    "import uproot\n",
    "import awkward\n",
    "import numpy as np\n",
    "from scipy.stats import binned_statistic_2d\n",
    "import matplotlib.pyplot as plt\n",
    "from matplotlib.colors import LogNorm\n",
    "\n",
    "import matplotlib\n",
    "matplotlib.rcParams.update({'font.size': 12})\n",
    "import ROOT\n",
    "from histogram import *\n",
    "ROOT.gStyle.SetOptFit(1)"
   ]
  },
  {
   "cell_type": "code",
   "execution_count": 2,
   "metadata": {},
   "outputs": [],
   "source": [
    "branches = [\n",
    "    'run',\n",
    "    'sub',\n",
    "    'evt',\n",
    "    'fileno',\n",
    "    #'n_pfp',\n",
    "\n",
    "    'backtracked_purity',\n",
    "    'backtracked_completeness',\n",
    "    'backtracked_process_is_stopping',\n",
    "    'backtracked_end_in_tpc',\n",
    "    \n",
    "    'backtracked_pc_q_u',\n",
    "    'backtracked_pc_q_v',\n",
    "    'backtracked_pc_q_y',\n",
    "    'backtracked_c_u',\n",
    "    'backtracked_c_v',\n",
    "    'backtracked_c_y',\n",
    "    \n",
    "    'backtracked_theta',\n",
    "    'backtracked_phi',\n",
    "    \n",
    "    'trkhit_charge_u',\n",
    "    'trkhit_charge_v',\n",
    "    'trkhit_charge_y',\n",
    "    'trkhit_channel_u',\n",
    "    'trkhit_channel_v',\n",
    "    'trkhit_channel_y',\n",
    "    \n",
    "    'allhit_charge_u',\n",
    "    'allhit_charge_v',\n",
    "    'allhit_charge_y',\n",
    "    'allhit_channel_u',\n",
    "    'allhit_channel_v',\n",
    "    'allhit_channel_y',\n",
    "    \n",
    "    'calohit_charge_u',\n",
    "    'calohit_charge_v',\n",
    "    'calohit_charge_y',\n",
    "    'calohit_channel_u',\n",
    "    'calohit_channel_v',\n",
    "    'calohit_channel_y',\n",
    "    \n",
    "    'areahit_charge_u',\n",
    "    'areahit_charge_v',\n",
    "    'areahit_charge_y',\n",
    "    'areahit_channel_u',\n",
    "    'areahit_channel_v',\n",
    "    'areahit_channel_y',\n",
    "    \n",
    "    'sumhit_charge_u',\n",
    "    'sumhit_charge_v',\n",
    "    'sumhit_charge_y',\n",
    "    'sumhit_channel_u',\n",
    "    'sumhit_channel_v',\n",
    "    'sumhit_channel_y',\n",
    "]"
   ]
  },
  {
   "cell_type": "code",
   "execution_count": 3,
   "metadata": {},
   "outputs": [],
   "source": [
    "# file_bnb = '/sbnd/data/users/gputnam/NuMuReco/bnblike_single_calo/sbnd_proton.root'\n",
    "filetype = \"proton\"\n",
    "file_bnb= \"./sbnd_\" + filetype + \"_gaus.root\"\n",
    "folder = \"caloana\"\n",
    "tree = \"CalorimetryAnalyzer\"\n",
    "\n",
    "data = uproot.open(file_bnb)[folder][tree].arrays(branches, namedecode=\"utf-8\")\n"
   ]
  },
  {
   "cell_type": "code",
   "execution_count": 4,
   "metadata": {},
   "outputs": [
    {
     "name": "stderr",
     "output_type": "stream",
     "text": [
      "/home/grayputnam/.local/lib/python3.6/site-packages/ipykernel_launcher.py:33: RuntimeWarning: invalid value encountered in true_divide\n"
     ]
    }
   ],
   "source": [
    "hittypes = [\"all\", \"trk\", \"area\", \"sum\", \"calo\"]\n",
    "planes = [\"_u\", \"_v\", \"_y\"]\n",
    "constants = np.array([0.0198,0.0198,0.0198])\n",
    "toexpand = [\"backtracked_theta\", \"backtracked_phi\", \"backtracked_process_is_stopping\", \"backtracked_end_in_tpc\",\n",
    "           \"evt\", \"fileno\"]\n",
    "\n",
    "for no,p in enumerate(planes):\n",
    "    maxchannel = np.max(data[\"backtracked_c\" + p].flatten())\n",
    "    minchannel = np.min(data[\"backtracked_c\" + p].flatten())\n",
    "    channel_arr = np.stack(tuple([np.arange(minchannel, maxchannel+1) for _ in range(len(data[\"evt\"]))]))\n",
    "\n",
    "    data[\"allchannel_true_charge\" + p] = np.stack(tuple([np.zeros((maxchannel-minchannel+1)) for i \n",
    "                                                           in range(len(data[\"evt\"]))]))\n",
    "    \n",
    "    toset = []\n",
    "    for i in range(len((data[\"backtracked_c\"+p]))):\n",
    "        data[\"allchannel_true_charge\" + p][i, data[\"backtracked_c\"+p][i]-minchannel] = data[\"backtracked_pc_q\"+p][i]\n",
    "    \n",
    "    for h in hittypes:\n",
    "        data[h+\"_nhit\"+p] = data[h+\"hit_channel\"+p]._stops - data[h+\"hit_channel\"+p]._starts\n",
    "        allchannel = \"allchannel_\" + h + \"charge\" + p\n",
    "        data[allchannel] = np.stack(tuple([np.zeros((maxchannel-minchannel+1)) for i \n",
    "                                                           in range(len(data[\"evt\"]))]))\n",
    "\n",
    "\n",
    "        for i in range(len(data[h+\"hit_channel\"+p])):\n",
    "            data[allchannel][i, data[h+\"hit_channel\"+p][i]-minchannel] = data[h+\"hit_charge\"+p][i] / constants[no]\n",
    "            \n",
    "            \n",
    "        data[h+\"_qdiff\"+p] = (np.sum(data[allchannel], axis=1) - np.sum(data[\"allchannel_true_charge\" + p], axis=1)) / np.sum(data[\"allchannel_true_charge\" + p], axis=1)\n",
    "\n",
    "        goodchannel = data[\"allchannel_true_charge\" + p] > 50000.\n",
    "        data[h+\"_hit_frac\"+p] = np.sum((data[allchannel] > 1e-3) & goodchannel, axis=1) / np.sum(goodchannel, axis=1)\n",
    "        data[h+\"_channel_qdiff\"+p] = (data[allchannel][goodchannel] - data[\"allchannel_true_charge\" + p][goodchannel]) / data[\"allchannel_true_charge\" + p][goodchannel]\n",
    "        data[h+\"_channel\"+p] = channel_arr[goodchannel]\n",
    "        repeat = np.sum(goodchannel, axis=1)\n",
    "        for name in toexpand:\n",
    "            data[h+\"_\"+name+p] = np.repeat(data[name], repeat)\n",
    "        \n",
    "\n",
    "        del data[\"allchannel_\" + h + \"charge\" + p]\n",
    "        del goodchannel\n",
    "        \n",
    "    del data[\"allchannel_true_charge\" + p]\n",
    "         \n",
    "\n",
    "\n",
    "        "
   ]
  },
  {
   "cell_type": "code",
   "execution_count": 5,
   "metadata": {},
   "outputs": [],
   "source": [
    "save=False\n",
    "outputdir=\"\""
   ]
  },
  {
   "cell_type": "code",
   "execution_count": null,
   "metadata": {},
   "outputs": [],
   "source": [
    "lo = -0.4\n",
    "hi = 0.4\n",
    "h_dq_plane = PlaneHistogram(MultiHistogram(\n",
    "                        ROOT.TH1D(\"diffQ_calo\", \"Calorimetric Charge\", 100, lo, hi), \n",
    "                            ROOT.TH1D(\"diffQ_trk\", \"Tracked Charge\", 100, lo, hi),\n",
    "                            ROOT.TH1D(\"diffQ_all\", \"All Charge\", 100, lo, hi),\n",
    "                                           name=None)\n",
    "                           , DEFAULT_PLANES[:-2])\n",
    "\n",
    "when = (data['backtracked_end_in_tpc']) & (data['backtracked_process_is_stopping'])\n",
    "# when = data['backtracked_process_is_stopping']\n",
    "h_dq_plane.Fill(data, \"calo_qdiff\", \"trk_qdiff\", \"all_qdiff\",\n",
    "                when=when,\n",
    "                is_planar=None)\n",
    "h_dq_plane.DrawEach()\n",
    "h_dq_plane.XTitle(\"Q_{reco}-Q_{true}/Q_{true}\")\n",
    "h_dq_plane.YTitle(\"Entries\")\n",
    "\n",
    "if save: h_dq_plane.SaveEachAs(outputdir + \"diffQ_gauss_comp.pdf\")"
   ]
  }
 ],
 "metadata": {
  "kernelspec": {
   "display_name": "Python 3",
   "language": "python",
   "name": "python3"
  },
  "language_info": {
   "codemirror_mode": {
    "name": "ipython",
    "version": 3
   },
   "file_extension": ".py",
   "mimetype": "text/x-python",
   "name": "python",
   "nbconvert_exporter": "python",
   "pygments_lexer": "ipython3",
   "version": "3.6.9"
  }
 },
 "nbformat": 4,
 "nbformat_minor": 4
}
